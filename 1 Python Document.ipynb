{
 "cells": [
  {
   "cell_type": "markdown",
   "metadata": {
    "id": "_lYdFHgunI4C"
   },
   "source": [
    "# Week 2 - Monday Lesson (variable assignment, loops, lists)"
   ]
  },
  {
   "cell_type": "markdown",
   "metadata": {
    "id": "TlykrWUwnI4F"
   },
   "source": [
    "## Tasks Today:\n",
    "\n",
    "1) Int & Float assignments <br>\n",
    " &nbsp;&nbsp;&nbsp;&nbsp; a) Assigning int <br>\n",
    " &nbsp;&nbsp;&nbsp;&nbsp; b) Assigning float <br>\n",
    " &nbsp;&nbsp;&nbsp;&nbsp; c) Performing Calculations on ints and floats <br>\n",
    " &nbsp;&nbsp;&nbsp;&nbsp;&nbsp;&nbsp;&nbsp;&nbsp; - Addition <br>\n",
    " &nbsp;&nbsp;&nbsp;&nbsp;&nbsp;&nbsp;&nbsp;&nbsp; - Subtraction <br>\n",
    " &nbsp;&nbsp;&nbsp;&nbsp;&nbsp;&nbsp;&nbsp;&nbsp; - Multiplication <br>\n",
    " &nbsp;&nbsp;&nbsp;&nbsp;&nbsp;&nbsp;&nbsp;&nbsp; - Division <br>\n",
    " &nbsp;&nbsp;&nbsp;&nbsp;&nbsp;&nbsp;&nbsp;&nbsp; - Floor Division <br>\n",
    " &nbsp;&nbsp;&nbsp;&nbsp;&nbsp;&nbsp;&nbsp;&nbsp; - Modulo <br>\n",
    " &nbsp;&nbsp;&nbsp;&nbsp;&nbsp;&nbsp;&nbsp;&nbsp; - Exponential <br>\n",
    "2) String Input-Output <br>\n",
    " &nbsp;&nbsp;&nbsp;&nbsp; a) String Assignment <br>\n",
    " &nbsp;&nbsp;&nbsp;&nbsp; b) print() <br>\n",
    " &nbsp;&nbsp;&nbsp;&nbsp; c) String Concatenation <br>\n",
    " &nbsp;&nbsp;&nbsp;&nbsp; d) Type Conversion <br>\n",
    " &nbsp;&nbsp;&nbsp;&nbsp; e) input() <br>\n",
    " &nbsp;&nbsp;&nbsp;&nbsp; f) format() <br>\n",
    " &nbsp;&nbsp;&nbsp;&nbsp; g) Old Way (python 2) <br>\n",
    "3) <b>In-Class Exercise #1</b> <br>\n",
    "4) If Statements <br>\n",
    " &nbsp;&nbsp;&nbsp;&nbsp; a) 'is' keyword <br>\n",
    " &nbsp;&nbsp;&nbsp;&nbsp; b) 'in' keyword <br>\n",
    " &nbsp;&nbsp;&nbsp;&nbsp; c) 'not in' keyword <br>\n",
    "5) <b>In-Class Exercise #2</b> <br>\n",
    "6) Elif Statements <br>\n",
    "7) Else Statements <br>\n",
    "8) <b>In-Class Exercise #3</b> <br>\n",
    "9) For Loops <br>\n",
    " &nbsp;&nbsp;&nbsp;&nbsp; a) Using 'in' keyword <br>\n",
    " &nbsp;&nbsp;&nbsp;&nbsp; b) Continue Statement <br>\n",
    " &nbsp;&nbsp;&nbsp;&nbsp; c) Break Statement <br>\n",
    " &nbsp;&nbsp;&nbsp;&nbsp; d) Pass Statement <br>\n",
    " &nbsp;&nbsp;&nbsp;&nbsp; e) Double For Loops <br>\n",
    "10) While Loops <br>\n",
    " &nbsp;&nbsp;&nbsp;&nbsp; a) Looping 'While True' <br>\n",
    " &nbsp;&nbsp;&nbsp;&nbsp; b) While and For Loops Used Together <br>\n",
    "11) Built-In Functions <br>\n",
    " &nbsp;&nbsp;&nbsp;&nbsp; a) range() <br>\n",
    " &nbsp;&nbsp;&nbsp;&nbsp; b) len() <br>\n",
    " &nbsp;&nbsp;&nbsp;&nbsp; c) help() <br>\n",
    " &nbsp;&nbsp;&nbsp;&nbsp; d) isinstance() <br>\n",
    " &nbsp;&nbsp;&nbsp;&nbsp; e) abs() <br>\n",
    "12) Try and Except <br>\n",
    "13) Lists <br>\n",
    " &nbsp;&nbsp;&nbsp;&nbsp; a) Declaring Lists <br>\n",
    " &nbsp;&nbsp;&nbsp;&nbsp; b) Indexing a List <br>\n",
    " &nbsp;&nbsp;&nbsp;&nbsp; c) .append() <br>\n",
    " &nbsp;&nbsp;&nbsp;&nbsp; d) .insert() <br>\n",
    " &nbsp;&nbsp;&nbsp;&nbsp; e) .pop() <br>\n",
    " &nbsp;&nbsp;&nbsp;&nbsp; f) .remove() <br>\n",
    " &nbsp;&nbsp;&nbsp;&nbsp; g) del() <br>\n",
    " &nbsp;&nbsp;&nbsp;&nbsp; h) Concatenating Two Lists <br>\n",
    " &nbsp;&nbsp;&nbsp;&nbsp; i) Lists Within Lists <br>\n",
    " &nbsp;&nbsp;&nbsp;&nbsp; j) Looping Through Lists <br>"
   ]
  },
  {
   "cell_type": "markdown",
   "metadata": {
    "id": "GA5PihKinI4G"
   },
   "source": [
    "### Int & Float Assignments"
   ]
  },
  {
   "cell_type": "markdown",
   "metadata": {
    "id": "MBzSQCTtnI4H"
   },
   "source": [
    "##### Assigning int"
   ]
  },
  {
   "cell_type": "code",
   "execution_count": 1,
   "metadata": {
    "id": "FyCfMo3InI4H"
   },
   "outputs": [
    {
     "name": "stdout",
     "output_type": "stream",
     "text": [
      "4\n"
     ]
    }
   ],
   "source": [
    "number = 4\n",
    "print(number)"
   ]
  },
  {
   "cell_type": "markdown",
   "metadata": {
    "id": "Dgtlwu50nI4H"
   },
   "source": [
    "##### Assinging float"
   ]
  },
  {
   "cell_type": "code",
   "execution_count": 2,
   "metadata": {
    "id": "vYTVDEiLnI4I"
   },
   "outputs": [
    {
     "name": "stdout",
     "output_type": "stream",
     "text": [
      "2.45\n"
     ]
    }
   ],
   "source": [
    "num_float = 2.45\n",
    "print(num_float)"
   ]
  },
  {
   "cell_type": "markdown",
   "metadata": {
    "id": "sxotyKienI4I"
   },
   "source": [
    "#### Performing Calculations on ints and floats"
   ]
  },
  {
   "cell_type": "markdown",
   "metadata": {
    "id": "1c23vPBBnI4I"
   },
   "source": [
    "##### Addition"
   ]
  },
  {
   "cell_type": "code",
   "execution_count": 4,
   "metadata": {
    "id": "YVC-9L-WnI4J"
   },
   "outputs": [
    {
     "name": "stdout",
     "output_type": "stream",
     "text": [
      "28\n"
     ]
    }
   ],
   "source": [
    "num = 5\n",
    "num2 = 23\n",
    "total = num + num2\n",
    "print(total)"
   ]
  },
  {
   "cell_type": "markdown",
   "metadata": {
    "id": "SCIuJb8PnI4J"
   },
   "source": [
    "##### Subtraction"
   ]
  },
  {
   "cell_type": "code",
   "execution_count": 5,
   "metadata": {
    "id": "ECSRAlR_nI4J"
   },
   "outputs": [
    {
     "name": "stdout",
     "output_type": "stream",
     "text": [
      "-4\n"
     ]
    }
   ],
   "source": [
    "num1 = 4\n",
    "num2 = 8\n",
    "difference = num1 - num2\n",
    "print(difference)"
   ]
  },
  {
   "cell_type": "markdown",
   "metadata": {
    "id": "c1yyzTdhnI4J"
   },
   "source": [
    "##### Multiplication"
   ]
  },
  {
   "cell_type": "code",
   "execution_count": 6,
   "metadata": {
    "id": "ijJnczz_nI4J"
   },
   "outputs": [
    {
     "name": "stdout",
     "output_type": "stream",
     "text": [
      "21996\n"
     ]
    }
   ],
   "source": [
    "num1 = 234\n",
    "num2 = 94\n",
    "product = num1 * num2\n",
    "print(product)"
   ]
  },
  {
   "cell_type": "markdown",
   "metadata": {
    "id": "THJ8NwqDnI4J"
   },
   "source": [
    "##### Division"
   ]
  },
  {
   "cell_type": "code",
   "execution_count": 7,
   "metadata": {
    "id": "XKEL8XWknI4J"
   },
   "outputs": [
    {
     "name": "stdout",
     "output_type": "stream",
     "text": [
      "3.0\n"
     ]
    }
   ],
   "source": [
    "num1 = 9\n",
    "num2 = 3\n",
    "quotient = num1/num2\n",
    "print(quotient)"
   ]
  },
  {
   "cell_type": "markdown",
   "metadata": {
    "id": "Tz75gZabnI4J"
   },
   "source": [
    "##### Floor Division"
   ]
  },
  {
   "cell_type": "code",
   "execution_count": 12,
   "metadata": {
    "id": "OpemhUHcnI4J"
   },
   "outputs": [
    {
     "name": "stdout",
     "output_type": "stream",
     "text": [
      "2\n"
     ]
    }
   ],
   "source": [
    "num1 = 10\n",
    "num2 = 4\n",
    "floor_quotient = num1//num2\n",
    "print(floor_quotient)"
   ]
  },
  {
   "cell_type": "markdown",
   "metadata": {
    "id": "yEY_cTvunI4K"
   },
   "source": [
    "##### Modulo"
   ]
  },
  {
   "cell_type": "code",
   "execution_count": 9,
   "metadata": {
    "id": "mAaZNsvOnI4K"
   },
   "outputs": [
    {
     "name": "stdout",
     "output_type": "stream",
     "text": [
      "4\n"
     ]
    }
   ],
   "source": [
    "num1 = 34234\n",
    "mod = num1%10\n",
    "print(mod)"
   ]
  },
  {
   "cell_type": "markdown",
   "metadata": {
    "id": "6Y0p5PXtnI4K"
   },
   "source": [
    "##### Exponential"
   ]
  },
  {
   "cell_type": "code",
   "execution_count": 13,
   "metadata": {
    "id": "ivxWicu2nI4K"
   },
   "outputs": [
    {
     "name": "stdout",
     "output_type": "stream",
     "text": [
      "16\n"
     ]
    }
   ],
   "source": [
    "num1 = 4\n",
    "square = num1**2\n",
    "print(square)"
   ]
  },
  {
   "cell_type": "markdown",
   "metadata": {
    "id": "aUMz5XQknI4K"
   },
   "source": [
    "### String Input-Output"
   ]
  },
  {
   "cell_type": "markdown",
   "metadata": {
    "id": "2BJ5uk0MnI4K"
   },
   "source": [
    "##### String Assignment"
   ]
  },
  {
   "cell_type": "code",
   "execution_count": 14,
   "metadata": {
    "id": "tqQHSjrMnI4K"
   },
   "outputs": [
    {
     "name": "stdout",
     "output_type": "stream",
     "text": [
      "This is a string\n"
     ]
    }
   ],
   "source": [
    "word = \"This is a string\"\n",
    "print(word)"
   ]
  },
  {
   "cell_type": "markdown",
   "metadata": {
    "id": "CTG5ebeDnI4K"
   },
   "source": [
    "##### print() <br>\n",
    "<p>Don't forget about end=' '</p>"
   ]
  },
  {
   "cell_type": "code",
   "execution_count": 22,
   "metadata": {
    "id": "j9LsUwpWnI4K"
   },
   "outputs": [
    {
     "name": "stdout",
     "output_type": "stream",
     "text": [
      "This is a string, and so is this\n"
     ]
    }
   ],
   "source": [
    "word2 = ', and so is this!'\n",
    "print(f'{word}{word2}')"
   ]
  },
  {
   "cell_type": "markdown",
   "metadata": {
    "id": "8ZBbO2bdnI4K"
   },
   "source": [
    "##### String Concatenation"
   ]
  },
  {
   "cell_type": "code",
   "execution_count": 23,
   "metadata": {
    "id": "lEJTg5ZAnI4K"
   },
   "outputs": [
    {
     "name": "stdout",
     "output_type": "stream",
     "text": [
      "This is a string, and so is this\n"
     ]
    }
   ],
   "source": [
    "concat = word + word2\n",
    "print(concat)"
   ]
  },
  {
   "cell_type": "markdown",
   "metadata": {
    "id": "Cgp68WgfnI4K"
   },
   "source": [
    "##### Type Conversion"
   ]
  },
  {
   "cell_type": "code",
   "execution_count": 24,
   "metadata": {
    "id": "K3n6iLMInI4K"
   },
   "outputs": [
    {
     "name": "stdout",
     "output_type": "stream",
     "text": [
      "<class 'int'>\n"
     ]
    }
   ],
   "source": [
    "num_string = '1234'\n",
    "num = int(num_string)\n",
    "print(type(num))"
   ]
  },
  {
   "cell_type": "markdown",
   "metadata": {
    "id": "crZkhLp-nI4K"
   },
   "source": [
    "##### input()"
   ]
  },
  {
   "cell_type": "code",
   "execution_count": null,
   "metadata": {},
   "outputs": [],
   "source": []
  },
  {
   "cell_type": "code",
   "execution_count": 32,
   "metadata": {
    "id": "ZxqHUvzinI4K"
   },
   "outputs": [
    {
     "name": "stdout",
     "output_type": "stream",
     "text": [
      "What is your name? Alex\n",
      "What is your age? 37\n",
      "37\n"
     ]
    }
   ],
   "source": [
    "age = 'a'\n",
    "name = input(\"What is your name? \")\n",
    "while age.isalpha():\n",
    "    age = input(\"What is your age? \")\n",
    "age = int(age)    \n",
    "print(age)"
   ]
  },
  {
   "cell_type": "markdown",
   "metadata": {
    "id": "SVFWpJl2nI4K"
   },
   "source": [
    "##### format()"
   ]
  },
  {
   "cell_type": "code",
   "execution_count": null,
   "metadata": {
    "id": "RhTZefUbnI4L"
   },
   "outputs": [],
   "source": [
    "age = input(\"What is your age? \")\n",
    "\n",
    "result_string = \"You are {} {} and you are getting wiser!\".format(age, name)\n",
    "print(result_string)\n",
    "\n",
    "result_again = f'{age} is a great time in life!'\n",
    "print(result_again)"
   ]
  },
  {
   "cell_type": "markdown",
   "metadata": {
    "id": "APNurDvGnI4L"
   },
   "source": [
    "##### Old Way (python 2)"
   ]
  },
  {
   "cell_type": "code",
   "execution_count": null,
   "metadata": {
    "id": "UvNHYF_nnI4L"
   },
   "outputs": [],
   "source": [
    "result_string2 = \"You are %s and you look good for your age!\" %age\n",
    "print(result_string2)"
   ]
  },
  {
   "cell_type": "markdown",
   "metadata": {
    "id": "xWvUVMPXnI4L"
   },
   "source": [
    "# In-Class Exercise 1 <br>\n",
    "<p>Create a format statement that asks for color, year, make, model and prints out the results</p>"
   ]
  },
  {
   "cell_type": "code",
   "execution_count": null,
   "metadata": {
    "id": "Xk_1Hqs5nI4L"
   },
   "outputs": [],
   "source": [
    "color = input(\"Please enter a color: \")\n",
    "year = input(\"Enter the year: \")\n",
    "make = input(\"Enter the make: \")\n",
    "model = input(\"Enter the model: \")\n",
    "print(f'{color} {year} {make} {model}')"
   ]
  },
  {
   "cell_type": "markdown",
   "metadata": {
    "id": "u8Me0d0OnI4L"
   },
   "source": [
    "### If Statements"
   ]
  },
  {
   "cell_type": "code",
   "execution_count": 4,
   "metadata": {
    "id": "nqOur1kunI4L"
   },
   "outputs": [
    {
     "name": "stdout",
     "output_type": "stream",
     "text": [
      "num equals 5\n",
      "num is not 6\n",
      "num greater than num2\n",
      "\n"
     ]
    }
   ],
   "source": [
    "# Available operators: Greater(>), Less(<),Equal(==)\n",
    "# Greater or Equal(>=), Less or Equal (<=)\n",
    "\n",
    "# Truth Tree:\n",
    "# T && F = F\n",
    "# T && T = T\n",
    "# T || F = T\n",
    "# F || T = T\n",
    "# F || F = F\n",
    "\n",
    "num = 5\n",
    "if num == 5:\n",
    "    print('num equals 5')\n",
    "if num != 6:\n",
    "    print('num is not 6')\n",
    "    \n",
    "num2 = 3\n",
    "if num < num2:\n",
    "    print('num less than num2')\n",
    "elif num > num2:\n",
    "    print('num greater than num2')\n",
    "else:\n",
    "    print('num and num2 are equal')\n",
    "    \n",
    "    \n",
    "if num == 5 and num2 == 3:\n",
    "    print('AND statement is TRUE')\n",
    "else:\n",
    "    print('AND statement is FALSE')\n",
    "\n",
    "if num == 3 or num2 == 3:\n",
    "    print('At least one of the numbers is 3')"
   ]
  },
  {
   "cell_type": "markdown",
   "metadata": {
    "id": "-ER9CRB-nI4M"
   },
   "source": [
    "##### 'is' keyword"
   ]
  },
  {
   "cell_type": "code",
   "execution_count": null,
   "metadata": {
    "id": "kFI0d_pJnI4M",
    "scrolled": true
   },
   "outputs": [],
   "source": [
    "num = 5\n",
    "if num is 5:\n",
    "    print('num is 5')"
   ]
  },
  {
   "cell_type": "markdown",
   "metadata": {
    "id": "FmQfAuWknI4M"
   },
   "source": [
    "##### 'in' keyword"
   ]
  },
  {
   "cell_type": "code",
   "execution_count": null,
   "metadata": {
    "id": "XrNP5sgcnI4M"
   },
   "outputs": [],
   "source": [
    "num = 8\n",
    "if num in range(10):\n",
    "    print('num is between 0 and 9')\n",
    "else:\n",
    "    print('num is outside the range')"
   ]
  },
  {
   "cell_type": "markdown",
   "metadata": {
    "id": "so1coFTcnI4M"
   },
   "source": [
    "##### 'not in' keyword'"
   ]
  },
  {
   "cell_type": "code",
   "execution_count": null,
   "metadata": {
    "id": "zYUmmngqnI4M"
   },
   "outputs": [],
   "source": [
    "num = 7\n",
    "if num not in range(10):\n",
    "    print('num is outside the range 0 to 9')\n",
    "else:\n",
    "    print('num is inside the raange 0 to 9')"
   ]
  },
  {
   "cell_type": "markdown",
   "metadata": {
    "id": "p7XXr4jynI4M"
   },
   "source": [
    "# In-Class Exercise 2 <br>\n",
    "<p>Ask user for input, check to see if the letter 'p' is in the input</p>"
   ]
  },
  {
   "cell_type": "code",
   "execution_count": 8,
   "metadata": {
    "id": "pXBVLTaVnI4N"
   },
   "outputs": [
    {
     "name": "stdout",
     "output_type": "stream",
     "text": [
      "Enter a word: APPLE\n",
      "Input includes 'p'\n"
     ]
    }
   ],
   "source": [
    "word = input(\"Enter a word: \")\n",
    "if 'p' in word or 'P' in word:\n",
    "    print(\"Input includes 'p'\")\n",
    "else:\n",
    "    print(\"Input does not include 'p'\")"
   ]
  },
  {
   "cell_type": "markdown",
   "metadata": {
    "id": "9ft-wiAdnI4N"
   },
   "source": [
    "## Using 'and'/'or' with If Statements"
   ]
  },
  {
   "cell_type": "code",
   "execution_count": 9,
   "metadata": {
    "id": "Ptv4u09_nI4N"
   },
   "outputs": [
    {
     "name": "stdout",
     "output_type": "stream",
     "text": [
      "True and True\n",
      "at least one is true\n"
     ]
    }
   ],
   "source": [
    "num_1, num_2, num_3, num_4 = 15, 3, 10, 3\n",
    "if num_1 / 5 == num_2 and num_3 - 7 == num_4:\n",
    "    print('True and True')\n",
    "    \n",
    "if num_1 == num_3 or num_2 == num_4:\n",
    "    print('at least one is true')"
   ]
  },
  {
   "cell_type": "markdown",
   "metadata": {
    "id": "IOjOdD9PnI4N"
   },
   "source": [
    "### Elif Statements"
   ]
  },
  {
   "cell_type": "code",
   "execution_count": null,
   "metadata": {
    "id": "uX3PPFsAnI4N"
   },
   "outputs": [],
   "source": [
    "name = input(\"What is your name? \")\n",
    "\n",
    "if name == 'Brandon':\n",
    "    print('Name is Brandon')\n",
    "elif name == 'John':\n",
    "    print('Name is John')\n",
    "elif name == 'Rae':\n",
    "    print('Name is Rae')\n",
    "elif name == 'Melissa':\n",
    "    print('Name is Melissa')\n",
    "else:\n",
    "    print('Name is something else')"
   ]
  },
  {
   "cell_type": "markdown",
   "metadata": {
    "id": "duJ_ca_3nI4N"
   },
   "source": [
    "### Else Statements"
   ]
  },
  {
   "cell_type": "code",
   "execution_count": null,
   "metadata": {
    "id": "v2HXDSJtnI4N"
   },
   "outputs": [],
   "source": [
    "# see above"
   ]
  },
  {
   "cell_type": "markdown",
   "metadata": {
    "id": "WBt1CKC1nI4N"
   },
   "source": [
    "### For Loops"
   ]
  },
  {
   "cell_type": "code",
   "execution_count": null,
   "metadata": {
    "id": "UyWaTmZanI4N"
   },
   "outputs": [],
   "source": [
    "name = 'Alex Carlseen'\n",
    "\n",
    "for letter in name:\n",
    "    print(letter)"
   ]
  },
  {
   "cell_type": "markdown",
   "metadata": {
    "id": "BCG8kVf_nI4N"
   },
   "source": [
    "##### Using 'in' keyword"
   ]
  },
  {
   "cell_type": "code",
   "execution_count": null,
   "metadata": {
    "id": "UIciaVhAnI4N"
   },
   "outputs": [],
   "source": [
    "# see above"
   ]
  },
  {
   "cell_type": "markdown",
   "metadata": {
    "id": "RsIgnevQnI4N"
   },
   "source": [
    "##### Continue Statement"
   ]
  },
  {
   "cell_type": "code",
   "execution_count": null,
   "metadata": {
    "id": "CA8QhW-ynI4N"
   },
   "outputs": [],
   "source": [
    "# will continue to next iteration"
   ]
  },
  {
   "cell_type": "code",
   "execution_count": 12,
   "metadata": {
    "id": "qusMYUcenI4O"
   },
   "outputs": [
    {
     "name": "stdout",
     "output_type": "stream",
     "text": [
      "A\n",
      "l\n",
      "x\n",
      " \n",
      "C\n",
      "r\n",
      "l\n",
      "s\n",
      "n\n"
     ]
    }
   ],
   "source": [
    "name  = 'Alex Carlseen'\n",
    "\n",
    "for letter in name:\n",
    "    if letter in 'aeiou':\n",
    "        continue\n",
    "    print(letter)"
   ]
  },
  {
   "cell_type": "markdown",
   "metadata": {
    "id": "25M1HGkNnI4O"
   },
   "source": [
    "##### Break Statement"
   ]
  },
  {
   "cell_type": "code",
   "execution_count": null,
   "metadata": {
    "id": "sk22CI7ZnI4O"
   },
   "outputs": [],
   "source": [
    "# will break out of current loop"
   ]
  },
  {
   "cell_type": "code",
   "execution_count": 11,
   "metadata": {
    "id": "ncAUBT2znI4O"
   },
   "outputs": [
    {
     "name": "stdout",
     "output_type": "stream",
     "text": [
      "0\n",
      "1\n",
      "2\n",
      "3\n",
      "4\n",
      "5\n",
      "6\n"
     ]
    }
   ],
   "source": [
    "for x in range(238):\n",
    "    if x == 7:\n",
    "        break\n",
    "    print(x)"
   ]
  },
  {
   "cell_type": "markdown",
   "metadata": {
    "id": "RkFnuD17nI4O"
   },
   "source": [
    "##### Pass Statement"
   ]
  },
  {
   "cell_type": "code",
   "execution_count": null,
   "metadata": {
    "id": "bYEgulvqnI4O"
   },
   "outputs": [],
   "source": [
    "# mostly used as a placeholder, and will continue on same iteration"
   ]
  },
  {
   "cell_type": "code",
   "execution_count": null,
   "metadata": {
    "id": "wg9sjAfCnI4O"
   },
   "outputs": [],
   "source": [
    "name = 'Alex Carlseen'\n",
    "\n",
    "for letter in name:\n",
    "    pass"
   ]
  },
  {
   "cell_type": "markdown",
   "metadata": {
    "id": "RIFme77rnI4O"
   },
   "source": [
    "##### Double For Loops"
   ]
  },
  {
   "cell_type": "code",
   "execution_count": 13,
   "metadata": {
    "id": "Pg_9wrn7nI4O"
   },
   "outputs": [
    {
     "name": "stdout",
     "output_type": "stream",
     "text": [
      "0\n",
      "0\n",
      "0\n",
      "0\n",
      "0\n",
      "0\n",
      "1\n",
      "2\n",
      "3\n",
      "4\n",
      "0\n",
      "2\n",
      "4\n",
      "6\n",
      "8\n",
      "0\n",
      "3\n",
      "6\n",
      "9\n",
      "12\n",
      "0\n",
      "4\n",
      "8\n",
      "12\n",
      "16\n"
     ]
    }
   ],
   "source": [
    "for x in range(5):\n",
    "    for y in range(5):\n",
    "        print(x*y)"
   ]
  },
  {
   "cell_type": "markdown",
   "metadata": {
    "id": "pcW629Z2nI4O"
   },
   "source": [
    "### While Loops"
   ]
  },
  {
   "cell_type": "code",
   "execution_count": 14,
   "metadata": {
    "id": "R9aIwlJvnI4O"
   },
   "outputs": [
    {
     "name": "stdout",
     "output_type": "stream",
     "text": [
      "4\n"
     ]
    }
   ],
   "source": [
    "while x <5:\n",
    "    print(x)\n",
    "    x += 1"
   ]
  },
  {
   "cell_type": "markdown",
   "metadata": {
    "id": "A6nQ3VSjnI4O"
   },
   "source": [
    "##### Looping 'While True'"
   ]
  },
  {
   "cell_type": "code",
   "execution_count": 16,
   "metadata": {
    "id": "8cSsiCA5nI4O"
   },
   "outputs": [
    {
     "name": "stdout",
     "output_type": "stream",
     "text": [
      "Infinite Loop\n",
      "Infinite Loop\n",
      "Infinite Loop\n",
      "Infinite Loop\n",
      "Infinite Loop\n",
      "Infinite Loop\n",
      "Infinite Loop\n",
      "Infinite Loop\n",
      "Infinite Loop\n",
      "Infinite Loop\n",
      "Infinite Loop\n"
     ]
    }
   ],
   "source": [
    "game_over = False\n",
    "x = 0\n",
    "while True:\n",
    "    print('Infinite Loop')\n",
    "    if game_over == True:\n",
    "        break\n",
    "    x += 1\n",
    "    if x > 9:\n",
    "        game_over = True"
   ]
  },
  {
   "cell_type": "markdown",
   "metadata": {
    "id": "X-75FrMhnI4O"
   },
   "source": [
    "##### While & For Loops Used Together"
   ]
  },
  {
   "cell_type": "code",
   "execution_count": 18,
   "metadata": {
    "id": "84RofRFznI4P"
   },
   "outputs": [
    {
     "name": "stdout",
     "output_type": "stream",
     "text": [
      "While loop iteration: 0\n",
      "For loop iteration: 0\n",
      "For loop iteration: 1\n",
      "For loop iteration: 2\n",
      "For loop iteration: 3\n",
      "For loop iteration: 4\n",
      "While loop iteration: 1\n",
      "For loop iteration: 0\n",
      "For loop iteration: 1\n",
      "For loop iteration: 2\n",
      "For loop iteration: 3\n",
      "For loop iteration: 4\n",
      "While loop iteration: 2\n",
      "For loop iteration: 0\n",
      "For loop iteration: 1\n",
      "For loop iteration: 2\n",
      "For loop iteration: 3\n",
      "For loop iteration: 4\n",
      "While loop iteration: 3\n",
      "For loop iteration: 0\n",
      "For loop iteration: 1\n",
      "For loop iteration: 2\n",
      "For loop iteration: 3\n",
      "For loop iteration: 4\n",
      "While loop iteration: 4\n",
      "For loop iteration: 0\n",
      "For loop iteration: 1\n",
      "For loop iteration: 2\n",
      "For loop iteration: 3\n",
      "For loop iteration: 4\n"
     ]
    }
   ],
   "source": [
    "num = 0\n",
    "\n",
    "while num < 5:\n",
    "    print(f'While loop iteration: {num}')\n",
    "    num += 1\n",
    "    for x in range(5):\n",
    "        print(f'For loop iteration: {x}')"
   ]
  },
  {
   "cell_type": "markdown",
   "metadata": {
    "id": "7eHsWHZdnI4P"
   },
   "source": [
    "### Built-In Functions"
   ]
  },
  {
   "cell_type": "markdown",
   "metadata": {
    "id": "ngV5HF_bnI4P"
   },
   "source": [
    "##### range()"
   ]
  },
  {
   "cell_type": "code",
   "execution_count": 19,
   "metadata": {
    "id": "T-bVwoonnI4P"
   },
   "outputs": [
    {
     "name": "stdout",
     "output_type": "stream",
     "text": [
      "X is in range\n"
     ]
    }
   ],
   "source": [
    "x = 5\n",
    "if x in range(10):\n",
    "    print('X is in range')"
   ]
  },
  {
   "cell_type": "markdown",
   "metadata": {
    "id": "LzaEAdI2nI4P"
   },
   "source": [
    "##### len()"
   ]
  },
  {
   "cell_type": "code",
   "execution_count": 20,
   "metadata": {
    "id": "ehR51LpUnI4P"
   },
   "outputs": [
    {
     "name": "stdout",
     "output_type": "stream",
     "text": [
      "13\n"
     ]
    }
   ],
   "source": [
    "name = 'Alex Carlseen'\n",
    "name_length = len(name)\n",
    "\n",
    "print(name_length)"
   ]
  },
  {
   "cell_type": "markdown",
   "metadata": {
    "id": "S0k4MlkBnI4P"
   },
   "source": [
    "##### help()"
   ]
  },
  {
   "cell_type": "code",
   "execution_count": null,
   "metadata": {
    "id": "mkn7sTxunI4P"
   },
   "outputs": [],
   "source": [
    "help(range)"
   ]
  },
  {
   "cell_type": "markdown",
   "metadata": {
    "id": "2VLs3yrXnI4P"
   },
   "source": [
    "##### isinstance()"
   ]
  },
  {
   "cell_type": "code",
   "execution_count": 22,
   "metadata": {
    "id": "S1GtITDonI4P"
   },
   "outputs": [
    {
     "name": "stdout",
     "output_type": "stream",
     "text": [
      "False\n"
     ]
    }
   ],
   "source": [
    "#Check a variable to find out what object family (or data type) it belongs to\n",
    "#Returns a boolean\n",
    " \n",
    "num = 49.3\n",
    "print(isinstance(num, int))"
   ]
  },
  {
   "cell_type": "markdown",
   "metadata": {
    "id": "W6Ril1wMnI4P"
   },
   "source": [
    "##### abs()"
   ]
  },
  {
   "cell_type": "code",
   "execution_count": 21,
   "metadata": {
    "id": "juaNNBY-nI4P"
   },
   "outputs": [
    {
     "name": "stdout",
     "output_type": "stream",
     "text": [
      "19\n"
     ]
    }
   ],
   "source": [
    "num = abs(-19)\n",
    "print(num)"
   ]
  },
  {
   "cell_type": "markdown",
   "metadata": {
    "id": "EipW_6lHnI4P"
   },
   "source": [
    "### Try and Except"
   ]
  },
  {
   "cell_type": "code",
   "execution_count": 23,
   "metadata": {
    "id": "QOLkX7X2nI4Q"
   },
   "outputs": [
    {
     "name": "stdout",
     "output_type": "stream",
     "text": [
      "1\n",
      "2\n",
      "3\n",
      "4\n",
      "5\n",
      "Index Error\n",
      "Index Error\n",
      "Index Error\n",
      "Index Error\n",
      "Index Error\n"
     ]
    }
   ],
   "source": [
    "nums = [1, 2, 3, 4, 5]\n",
    "\n",
    "for i in range(10):\n",
    "    try:\n",
    "        print(nums[i])\n",
    "    except IndexError:\n",
    "        print('Index Error')"
   ]
  },
  {
   "cell_type": "markdown",
   "metadata": {
    "id": "CmNnGdTpnI4Q"
   },
   "source": [
    "### Lists"
   ]
  },
  {
   "cell_type": "markdown",
   "metadata": {
    "id": "_ejVfgINnI4Q"
   },
   "source": [
    "##### Declaring Lists"
   ]
  },
  {
   "cell_type": "code",
   "execution_count": null,
   "metadata": {
    "id": "6ZlcCxF1nI4Q"
   },
   "outputs": [],
   "source": [
    "my_list = [1, 2, 3, 4, 5]\n",
    "print(my_list)"
   ]
  },
  {
   "cell_type": "markdown",
   "metadata": {
    "id": "4idYp3sdnI4Q"
   },
   "source": [
    "##### Indexing a List"
   ]
  },
  {
   "cell_type": "code",
   "execution_count": 29,
   "metadata": {
    "id": "QTCVh6zenI4Q"
   },
   "outputs": [
    {
     "name": "stdout",
     "output_type": "stream",
     "text": [
      "1 is at index 0\n",
      "2 is at index 1\n",
      "3 is at index 2\n",
      "4 is at index 3\n",
      "5 is at index 4\n",
      "[1, 3, 5]\n",
      "[5, 4, 3, 2, 1]\n",
      "[2, 3, 4]\n"
     ]
    }
   ],
   "source": [
    "my_list = [1, 2, 3, 4, 5]\n",
    "my_list_length = len(my_list)\n",
    "for i in range(my_list_length):\n",
    "    print(f'{my_list[i]} is at index {i}')\n",
    "    \n",
    "print(my_list[::2])\n",
    "print(my_list[::-1])\n",
    "print(my_list[1:4])"
   ]
  },
  {
   "cell_type": "markdown",
   "metadata": {
    "id": "IuMYw0nvnI4Q"
   },
   "source": [
    "##### .append()"
   ]
  },
  {
   "cell_type": "code",
   "execution_count": 26,
   "metadata": {
    "id": "sTrDICCRnI4Q"
   },
   "outputs": [
    {
     "name": "stdout",
     "output_type": "stream",
     "text": [
      "[1, 2, 3, 4, 5]\n",
      "[1, 2, 3, 4, 5, 'apple']\n"
     ]
    }
   ],
   "source": [
    "my_list = [1, 2, 3, 4, 5]\n",
    "print(my_list)\n",
    "my_list.append('apple')\n",
    "print(my_list)"
   ]
  },
  {
   "cell_type": "markdown",
   "metadata": {
    "id": "UzKP2wxXnI4Q"
   },
   "source": [
    "##### .insert()"
   ]
  },
  {
   "cell_type": "code",
   "execution_count": 32,
   "metadata": {
    "id": "-yXMRKnAnI4Q"
   },
   "outputs": [
    {
     "name": "stdout",
     "output_type": "stream",
     "text": [
      "[0, 1, 2, 3, 'apple', 4, 5, 6, 7, 8, 9, 10, 11, 12, 13, 14, 15, 16, 17, 18, 19]\n"
     ]
    }
   ],
   "source": [
    "my_list = [x for x in range(20)]\n",
    "my_list.insert(4, 'apple')\n",
    "print(my_list)"
   ]
  },
  {
   "cell_type": "markdown",
   "metadata": {
    "id": "xjukNbcNnI4Q"
   },
   "source": [
    "##### .pop()"
   ]
  },
  {
   "cell_type": "code",
   "execution_count": 33,
   "metadata": {
    "id": "nw-RysdInI4Q"
   },
   "outputs": [
    {
     "name": "stdout",
     "output_type": "stream",
     "text": [
      "19\n",
      "18\n",
      "17\n",
      "16\n",
      "15\n",
      "14\n",
      "13\n",
      "12\n",
      "11\n",
      "10\n",
      "9\n",
      "8\n",
      "7\n",
      "6\n",
      "5\n",
      "4\n",
      "apple\n",
      "3\n",
      "2\n",
      "1\n",
      "0\n"
     ]
    }
   ],
   "source": [
    "while my_list:\n",
    "    print(my_list.pop())"
   ]
  },
  {
   "cell_type": "markdown",
   "metadata": {
    "id": "o5trD09bnI4Q"
   },
   "source": [
    "\n",
    "##### .remove()"
   ]
  },
  {
   "cell_type": "code",
   "execution_count": 34,
   "metadata": {
    "id": "X_TBFnAlnI4Q"
   },
   "outputs": [
    {
     "name": "stdout",
     "output_type": "stream",
     "text": [
      "[0, 1, 2, 3, 'apple', 4, 5, 6, 7, 8, 9, 10, 11, 12, 13, 14, 15, 16, 17, 18, 19]\n",
      "[0, 1, 2, 3, 4, 5, 6, 7, 8, 9, 10, 11, 12, 13, 14, 15, 16, 17, 18, 19]\n"
     ]
    }
   ],
   "source": [
    "my_list = [x for x in range(20)]\n",
    "my_list.insert(4, 'apple')\n",
    "print(my_list)\n",
    "my_list.remove('apple')\n",
    "print(my_list)"
   ]
  },
  {
   "cell_type": "markdown",
   "metadata": {
    "id": "BAl82L-FnI4Q"
   },
   "source": [
    "##### del()"
   ]
  },
  {
   "cell_type": "code",
   "execution_count": 35,
   "metadata": {
    "id": "cuhjHzs9nI4Q"
   },
   "outputs": [
    {
     "name": "stdout",
     "output_type": "stream",
     "text": [
      "[0, 1, 2, 3, 4, 5, 6, 7, 8, 9, 10, 11, 12, 13, 14, 15, 16, 17, 18, 19]\n",
      "[0, 1, 2, 3, 4, 5, 7, 8, 9, 10, 11, 12, 13, 14, 15, 16, 17, 18, 19]\n"
     ]
    }
   ],
   "source": [
    "print(my_list)\n",
    "del(my_list[6])\n",
    "print(my_list)"
   ]
  },
  {
   "cell_type": "markdown",
   "metadata": {
    "id": "uAJ3qgwHnI4Q"
   },
   "source": [
    "##### Concatenating Two Lists"
   ]
  },
  {
   "cell_type": "code",
   "execution_count": 36,
   "metadata": {
    "id": "5r7IIcyqnI4R"
   },
   "outputs": [
    {
     "name": "stdout",
     "output_type": "stream",
     "text": [
      "[0, 1, 2, 3, 4, 5, 7, 8, 9, 10, 11, 12, 13, 14, 15, 16, 17, 18, 19, 'apple', 'banana', 'cranberry', 'dragonfruit']\n"
     ]
    }
   ],
   "source": [
    "another_list = ['apple', 'banana', 'cranberry', 'dragonfruit']\n",
    "big_list = my_list + another_list\n",
    "print(big_list)"
   ]
  },
  {
   "cell_type": "markdown",
   "metadata": {
    "id": "CpyN55wwnI4R"
   },
   "source": [
    "##### Lists Within Lists"
   ]
  },
  {
   "cell_type": "code",
   "execution_count": 37,
   "metadata": {
    "id": "2TyqdVixnI4R"
   },
   "outputs": [
    {
     "name": "stdout",
     "output_type": "stream",
     "text": [
      "['Sam', 'Max', 'Nic', ['Jon', 'Sal', 'Ben', ['Jim', 'Amy', 'Dan']]]\n",
      "Amy\n"
     ]
    }
   ],
   "source": [
    "names = ['Sam', 'Max', 'Nic', ['Jon', 'Sal', 'Ben', ['Jim', 'Amy', 'Dan']]]\n",
    "\n",
    "print(names)\n",
    "print(names[3][3][1])"
   ]
  },
  {
   "cell_type": "markdown",
   "metadata": {
    "id": "s_3T3_R3nI4R"
   },
   "source": [
    "##### Looping Through Lists"
   ]
  },
  {
   "cell_type": "code",
   "execution_count": 40,
   "metadata": {
    "id": "STwYKXXMnI4R"
   },
   "outputs": [
    {
     "name": "stdout",
     "output_type": "stream",
     "text": [
      "Sam\n",
      "Max\n",
      "Nic\n",
      "['Jon', 'Sal', 'Ben', ['Jim', 'Amy', 'Dan']]\n",
      "Sam\n",
      "Max\n",
      "Nic\n",
      "['Jon', 'Sal', 'Ben', ['Jim', 'Amy', 'Dan']]\n"
     ]
    }
   ],
   "source": [
    "for item in names:\n",
    "    print(item)\n",
    "\n",
    "for x in range(len(names)):\n",
    "    print(names[x])"
   ]
  },
  {
   "cell_type": "code",
   "execution_count": null,
   "metadata": {},
   "outputs": [],
   "source": []
  },
  {
   "cell_type": "markdown",
   "metadata": {
    "id": "xksd5MUjnI4R"
   },
   "source": [
    "## Exercise #1 <br>\n",
    "<p>Cube Number Test... Print out all cubed numbers up to the total value 1000. Meaning that if the cubed number is over 1000 break the loop.</p>"
   ]
  },
  {
   "cell_type": "code",
   "execution_count": 1,
   "metadata": {
    "id": "xSb1avJynI4R"
   },
   "outputs": [
    {
     "name": "stdout",
     "output_type": "stream",
     "text": [
      "0\n",
      "1\n",
      "8\n",
      "27\n",
      "64\n",
      "125\n",
      "216\n",
      "343\n",
      "512\n",
      "729\n",
      "1000\n"
     ]
    }
   ],
   "source": [
    "# cubes = [x**3 for x in range(11) if x**3 < 1000]\n",
    "x = 0\n",
    "while True:\n",
    "    if x**3 > 1000:\n",
    "        break\n",
    "    print(x**3)\n",
    "    x += 1"
   ]
  },
  {
   "cell_type": "markdown",
   "metadata": {
    "id": "mJmgrGmqnI4R"
   },
   "source": [
    "## Exercise #2 <br>\n",
    "<p>Get first prime numbers up to 100</p>"
   ]
  },
  {
   "cell_type": "code",
   "execution_count": 10,
   "metadata": {
    "id": "8nEjd9LQnI4R"
   },
   "outputs": [
    {
     "name": "stdout",
     "output_type": "stream",
     "text": [
      "[2, 3, 5, 7, 11, 13, 17, 19, 23, 29, 31, 37, 41, 43, 47, 53, 59, 61, 67, 71, 73, 79, 83, 89, 97]\n"
     ]
    }
   ],
   "source": [
    "primes = []\n",
    "for num in range(2, 100): #start at 2, because 1 is not considered a prime\n",
    "    prime = True\n",
    "    for factor in range(2, num):\n",
    "        if num == factor:\n",
    "            continue\n",
    "        if num % factor == 0:\n",
    "            prime = False\n",
    "            break\n",
    "    if prime:\n",
    "        primes.append(num)\n",
    "print(primes)\n"
   ]
  },
  {
   "cell_type": "markdown",
   "metadata": {
    "id": "PwH96tqFnI4R"
   },
   "source": [
    "# Exercise 3 <br>\n",
    "<p>Take in a users input for their age, if they are younger than 18 print kids, if they're 18 to 65 print adults, else print seniors</p>"
   ]
  },
  {
   "cell_type": "code",
   "execution_count": 3,
   "metadata": {
    "id": "9sar7hadnI4R"
   },
   "outputs": [
    {
     "name": "stdout",
     "output_type": "stream",
     "text": [
      "Please enter your age: adflk;j\n",
      "Please enter your age: dkd\n",
      "Please enter your age: 3kd\n",
      "Please enter your age: 30\n",
      "Adults\n"
     ]
    }
   ],
   "source": [
    "while True:\n",
    "    age = input(\"Please enter your age: \")\n",
    "    if age.isnumeric():\n",
    "        break\n",
    "age = int(age)\n",
    "if age < 18:\n",
    "    print('Kids')\n",
    "elif age < 65: # unclear if 65 should be included\n",
    "    print('Adults')\n",
    "else: # as written, this will be 65+ group\n",
    "    print('Seniors')"
   ]
  },
  {
   "cell_type": "code",
   "execution_count": null,
   "metadata": {},
   "outputs": [],
   "source": []
  }
 ],
 "metadata": {
  "colab": {
   "provenance": []
  },
  "kernelspec": {
   "display_name": "Python 3 (ipykernel)",
   "language": "python",
   "name": "python3"
  },
  "language_info": {
   "codemirror_mode": {
    "name": "ipython",
    "version": 3
   },
   "file_extension": ".py",
   "mimetype": "text/x-python",
   "name": "python",
   "nbconvert_exporter": "python",
   "pygments_lexer": "ipython3",
   "version": "3.11.4"
  }
 },
 "nbformat": 4,
 "nbformat_minor": 1
}
